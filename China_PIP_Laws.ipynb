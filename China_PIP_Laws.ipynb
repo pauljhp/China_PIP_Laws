{
  "nbformat": 4,
  "nbformat_minor": 0,
  "metadata": {
    "colab": {
      "name": "China PIP Laws.ipynb",
      "provenance": [],
      "collapsed_sections": [],
      "toc_visible": true
    },
    "kernelspec": {
      "name": "python3",
      "display_name": "Python 3"
    },
    "language_info": {
      "name": "python"
    }
  },
  "cells": [
    {
      "cell_type": "markdown",
      "metadata": {
        "id": "uKgJHL_ykajH"
      },
      "source": [
        "# Analyzing Frequency of Chinese Cybersecurity Standards & Indicated Regulatory Enforcement/Legislation modes\n",
        "------------\n",
        "\n",
        "- This notebook will go over the cybersecurity related standards released by the TC260 (the Chinese standard setting body) and analyze the historical consultation/publication frequency to uncover trends in the regulators' enforcement modes.\n",
        "- This notebook also tries to look at cybersecurity and internet companies' influence/relationship with the regulators and SROs to determin the degree of regulatory capture and companies' varying degrees of influence on the regulator."
      ]
    },
    {
      "cell_type": "code",
      "metadata": {
        "id": "uVf4avPWXEez"
      },
      "source": [
        "# -*- coding: utf-8 -*-\n",
        "# Copyright (c) 2021, Paul Peng\n",
        "\n",
        "import requests\n",
        "import pandas as pd\n",
        "import os,re\n",
        "#from google.colab import drive\n",
        "from bs4 import BeautifulSoup as bs\n",
        "from datetime import datetime, timedelta, date\n",
        "\n",
        "__author__ = 'Paul J. Peng Copyright 2021'"
      ],
      "execution_count": null,
      "outputs": []
    },
    {
      "cell_type": "markdown",
      "metadata": {
        "id": "cZuNOOg5lA4G"
      },
      "source": [
        "## 1. Collect data from TC260 (the standard setting body)"
      ]
    },
    {
      "cell_type": "code",
      "metadata": {
        "id": "RIWAn2e4Erwa",
        "colab": {
          "base_uri": "https://localhost:8080/",
          "height": 204
        },
        "outputId": "dcd2f060-3030-47b1-fbb2-af77c5a66ae6"
      },
      "source": [
        "url='https://www.tc260.org.cn/front/bzzqyjList.html?postType=&start=1&length=1000'\n",
        "res=requests.get(url)\n",
        "soup=bs(res.text,\"lxml\")\n",
        "df=pd.DataFrame(columns=['time','name'])\n",
        "i=0\n",
        "for item in soup.find_all(\"li\"):\n",
        "    if item.span:\n",
        "        i+=1\n",
        "        _=str(item.span.text)\n",
        "        start,end=re.search(\"\\d\\d\\d\\d-\\d\\d-\\d\\d\",_).span()\n",
        "        df.loc[i,'name']=re.sub('[\\r\\t\\n]','',item.text)\n",
        "        df.loc[i,'time']=_[start:end]\n",
        "df['month']=[datetime.strptime(t,\"%Y-%m-%d\").month for t in df.time]\n",
        "df['year']=[datetime.strptime(t,\"%Y-%m-%d\").year for t in df.time]\n",
        "df.head(5)"
      ],
      "execution_count": null,
      "outputs": [
        {
          "output_type": "execute_result",
          "data": {
            "text/html": [
              "<div>\n",
              "<style scoped>\n",
              "    .dataframe tbody tr th:only-of-type {\n",
              "        vertical-align: middle;\n",
              "    }\n",
              "\n",
              "    .dataframe tbody tr th {\n",
              "        vertical-align: top;\n",
              "    }\n",
              "\n",
              "    .dataframe thead th {\n",
              "        text-align: right;\n",
              "    }\n",
              "</style>\n",
              "<table border=\"1\" class=\"dataframe\">\n",
              "  <thead>\n",
              "    <tr style=\"text-align: right;\">\n",
              "      <th></th>\n",
              "      <th>time</th>\n",
              "      <th>name</th>\n",
              "      <th>month</th>\n",
              "      <th>year</th>\n",
              "    </tr>\n",
              "  </thead>\n",
              "  <tbody>\n",
              "    <tr>\n",
              "      <th>1</th>\n",
              "      <td>2021-10-09</td>\n",
              "      <td>关于国家标准《信息安全技术 公钥基础设施 PKI系统安全测评方...</td>\n",
              "      <td>10</td>\n",
              "      <td>2021</td>\n",
              "    </tr>\n",
              "    <tr>\n",
              "      <th>2</th>\n",
              "      <td>2021-10-02</td>\n",
              "      <td>关于国家标准《信息安全技术 机器学习算法安全评估规范》征求意见...</td>\n",
              "      <td>10</td>\n",
              "      <td>2021</td>\n",
              "    </tr>\n",
              "    <tr>\n",
              "      <th>3</th>\n",
              "      <td>2021-09-30</td>\n",
              "      <td>关于国家标准《信息安全技术 区块链技术安全框架》征求意见稿征求...</td>\n",
              "      <td>9</td>\n",
              "      <td>2021</td>\n",
              "    </tr>\n",
              "    <tr>\n",
              "      <th>4</th>\n",
              "      <td>2021-09-21</td>\n",
              "      <td>关于国家标准《信息安全技术 信息系统安全保障评估框架 第1部分...</td>\n",
              "      <td>9</td>\n",
              "      <td>2021</td>\n",
              "    </tr>\n",
              "    <tr>\n",
              "      <th>5</th>\n",
              "      <td>2021-08-02</td>\n",
              "      <td>关于国家标准《信息安全技术 网络安全态势感知通用技术要求》征求...</td>\n",
              "      <td>8</td>\n",
              "      <td>2021</td>\n",
              "    </tr>\n",
              "  </tbody>\n",
              "</table>\n",
              "</div>"
            ],
            "text/plain": [
              "         time                                               name  month  year\n",
              "1  2021-10-09                 关于国家标准《信息安全技术 公钥基础设施 PKI系统安全测评方...     10  2021\n",
              "2  2021-10-02                 关于国家标准《信息安全技术 机器学习算法安全评估规范》征求意见...     10  2021\n",
              "3  2021-09-30                 关于国家标准《信息安全技术 区块链技术安全框架》征求意见稿征求...      9  2021\n",
              "4  2021-09-21                 关于国家标准《信息安全技术 信息系统安全保障评估框架 第1部分...      9  2021\n",
              "5  2021-08-02                 关于国家标准《信息安全技术 网络安全态势感知通用技术要求》征求...      8  2021"
            ]
          },
          "metadata": {},
          "execution_count": 3
        }
      ]
    },
    {
      "cell_type": "markdown",
      "metadata": {
        "id": "2NWmrMPylVKt"
      },
      "source": [
        "## 2. Summary data to check frequency by month"
      ]
    },
    {
      "cell_type": "code",
      "metadata": {
        "colab": {
          "base_uri": "https://localhost:8080/",
          "height": 452
        },
        "id": "Pz0W3IZuS_OB",
        "outputId": "87ea9a8e-0b50-45f7-9111-8b43e91e40ef"
      },
      "source": [
        "data=df.pivot_table(index='year',columns='month',aggfunc='count').name\n",
        "data['sum']=data.sum(axis='columns')\n",
        "data.fillna('')"
      ],
      "execution_count": null,
      "outputs": [
        {
          "output_type": "execute_result",
          "data": {
            "text/html": [
              "<div>\n",
              "<style scoped>\n",
              "    .dataframe tbody tr th:only-of-type {\n",
              "        vertical-align: middle;\n",
              "    }\n",
              "\n",
              "    .dataframe tbody tr th {\n",
              "        vertical-align: top;\n",
              "    }\n",
              "\n",
              "    .dataframe thead th {\n",
              "        text-align: right;\n",
              "    }\n",
              "</style>\n",
              "<table border=\"1\" class=\"dataframe\">\n",
              "  <thead>\n",
              "    <tr style=\"text-align: right;\">\n",
              "      <th>month</th>\n",
              "      <th>1</th>\n",
              "      <th>2</th>\n",
              "      <th>3</th>\n",
              "      <th>4</th>\n",
              "      <th>5</th>\n",
              "      <th>6</th>\n",
              "      <th>7</th>\n",
              "      <th>8</th>\n",
              "      <th>9</th>\n",
              "      <th>10</th>\n",
              "      <th>11</th>\n",
              "      <th>12</th>\n",
              "      <th>sum</th>\n",
              "    </tr>\n",
              "    <tr>\n",
              "      <th>year</th>\n",
              "      <th></th>\n",
              "      <th></th>\n",
              "      <th></th>\n",
              "      <th></th>\n",
              "      <th></th>\n",
              "      <th></th>\n",
              "      <th></th>\n",
              "      <th></th>\n",
              "      <th></th>\n",
              "      <th></th>\n",
              "      <th></th>\n",
              "      <th></th>\n",
              "      <th></th>\n",
              "    </tr>\n",
              "  </thead>\n",
              "  <tbody>\n",
              "    <tr>\n",
              "      <th>2010</th>\n",
              "      <td></td>\n",
              "      <td>3</td>\n",
              "      <td></td>\n",
              "      <td></td>\n",
              "      <td></td>\n",
              "      <td></td>\n",
              "      <td>1</td>\n",
              "      <td></td>\n",
              "      <td></td>\n",
              "      <td>1</td>\n",
              "      <td></td>\n",
              "      <td></td>\n",
              "      <td>5.0</td>\n",
              "    </tr>\n",
              "    <tr>\n",
              "      <th>2011</th>\n",
              "      <td></td>\n",
              "      <td></td>\n",
              "      <td></td>\n",
              "      <td></td>\n",
              "      <td>3</td>\n",
              "      <td></td>\n",
              "      <td></td>\n",
              "      <td>4</td>\n",
              "      <td></td>\n",
              "      <td>1</td>\n",
              "      <td></td>\n",
              "      <td></td>\n",
              "      <td>8.0</td>\n",
              "    </tr>\n",
              "    <tr>\n",
              "      <th>2012</th>\n",
              "      <td></td>\n",
              "      <td></td>\n",
              "      <td></td>\n",
              "      <td></td>\n",
              "      <td></td>\n",
              "      <td></td>\n",
              "      <td></td>\n",
              "      <td></td>\n",
              "      <td>3</td>\n",
              "      <td>13</td>\n",
              "      <td></td>\n",
              "      <td></td>\n",
              "      <td>16.0</td>\n",
              "    </tr>\n",
              "    <tr>\n",
              "      <th>2013</th>\n",
              "      <td></td>\n",
              "      <td></td>\n",
              "      <td></td>\n",
              "      <td></td>\n",
              "      <td></td>\n",
              "      <td></td>\n",
              "      <td>13</td>\n",
              "      <td></td>\n",
              "      <td></td>\n",
              "      <td>11</td>\n",
              "      <td></td>\n",
              "      <td>17</td>\n",
              "      <td>41.0</td>\n",
              "    </tr>\n",
              "    <tr>\n",
              "      <th>2014</th>\n",
              "      <td></td>\n",
              "      <td></td>\n",
              "      <td></td>\n",
              "      <td></td>\n",
              "      <td>12</td>\n",
              "      <td></td>\n",
              "      <td></td>\n",
              "      <td></td>\n",
              "      <td>11</td>\n",
              "      <td></td>\n",
              "      <td></td>\n",
              "      <td></td>\n",
              "      <td>23.0</td>\n",
              "    </tr>\n",
              "    <tr>\n",
              "      <th>2015</th>\n",
              "      <td></td>\n",
              "      <td></td>\n",
              "      <td>12</td>\n",
              "      <td></td>\n",
              "      <td></td>\n",
              "      <td></td>\n",
              "      <td></td>\n",
              "      <td></td>\n",
              "      <td></td>\n",
              "      <td></td>\n",
              "      <td></td>\n",
              "      <td></td>\n",
              "      <td>12.0</td>\n",
              "    </tr>\n",
              "    <tr>\n",
              "      <th>2016</th>\n",
              "      <td></td>\n",
              "      <td></td>\n",
              "      <td></td>\n",
              "      <td>9</td>\n",
              "      <td></td>\n",
              "      <td></td>\n",
              "      <td></td>\n",
              "      <td>4</td>\n",
              "      <td>22</td>\n",
              "      <td></td>\n",
              "      <td></td>\n",
              "      <td>26</td>\n",
              "      <td>61.0</td>\n",
              "    </tr>\n",
              "    <tr>\n",
              "      <th>2017</th>\n",
              "      <td></td>\n",
              "      <td>28</td>\n",
              "      <td></td>\n",
              "      <td></td>\n",
              "      <td></td>\n",
              "      <td></td>\n",
              "      <td>21</td>\n",
              "      <td>19</td>\n",
              "      <td></td>\n",
              "      <td>16</td>\n",
              "      <td></td>\n",
              "      <td></td>\n",
              "      <td>84.0</td>\n",
              "    </tr>\n",
              "    <tr>\n",
              "      <th>2018</th>\n",
              "      <td></td>\n",
              "      <td></td>\n",
              "      <td>13</td>\n",
              "      <td></td>\n",
              "      <td></td>\n",
              "      <td></td>\n",
              "      <td>24</td>\n",
              "      <td></td>\n",
              "      <td></td>\n",
              "      <td></td>\n",
              "      <td></td>\n",
              "      <td></td>\n",
              "      <td>37.0</td>\n",
              "    </tr>\n",
              "    <tr>\n",
              "      <th>2019</th>\n",
              "      <td></td>\n",
              "      <td>16</td>\n",
              "      <td>1</td>\n",
              "      <td></td>\n",
              "      <td></td>\n",
              "      <td></td>\n",
              "      <td></td>\n",
              "      <td>8</td>\n",
              "      <td></td>\n",
              "      <td></td>\n",
              "      <td></td>\n",
              "      <td></td>\n",
              "      <td>25.0</td>\n",
              "    </tr>\n",
              "    <tr>\n",
              "      <th>2020</th>\n",
              "      <td></td>\n",
              "      <td></td>\n",
              "      <td>18</td>\n",
              "      <td></td>\n",
              "      <td></td>\n",
              "      <td></td>\n",
              "      <td>2</td>\n",
              "      <td></td>\n",
              "      <td>9</td>\n",
              "      <td>3</td>\n",
              "      <td>3</td>\n",
              "      <td></td>\n",
              "      <td>35.0</td>\n",
              "    </tr>\n",
              "    <tr>\n",
              "      <th>2021</th>\n",
              "      <td>1</td>\n",
              "      <td>3</td>\n",
              "      <td>7</td>\n",
              "      <td>5</td>\n",
              "      <td></td>\n",
              "      <td>10</td>\n",
              "      <td>1</td>\n",
              "      <td>1</td>\n",
              "      <td>2</td>\n",
              "      <td>2</td>\n",
              "      <td></td>\n",
              "      <td></td>\n",
              "      <td>32.0</td>\n",
              "    </tr>\n",
              "  </tbody>\n",
              "</table>\n",
              "</div>"
            ],
            "text/plain": [
              "month  1   2   3  4   5   6   7   8   9  10 11  12   sum\n",
              "year                                                    \n",
              "2010       3                  1           1          5.0\n",
              "2011                  3           4       1          8.0\n",
              "2012                                  3  13         16.0\n",
              "2013                         13          11     17  41.0\n",
              "2014                 12              11             23.0\n",
              "2015          12                                    12.0\n",
              "2016              9               4  22         26  61.0\n",
              "2017      28                 21  19      16         84.0\n",
              "2018          13             24                     37.0\n",
              "2019      16   1                  8                 25.0\n",
              "2020          18              2       9   3  3      35.0\n",
              "2021   1   3   7  5      10   1   1   2   2         32.0"
            ]
          },
          "metadata": {},
          "execution_count": 4
        }
      ]
    },
    {
      "cell_type": "markdown",
      "metadata": {
        "id": "SC1XS-T8lgg7"
      },
      "source": [
        "## 3. Visualize Data"
      ]
    },
    {
      "cell_type": "markdown",
      "metadata": {
        "id": "sTkxG1-Tm5oZ"
      },
      "source": [
        "### 3.1 Line Chart"
      ]
    },
    {
      "cell_type": "code",
      "metadata": {
        "colab": {
          "base_uri": "https://localhost:8080/",
          "height": 499
        },
        "id": "oCYZf4sWIURB",
        "outputId": "07740049-4e3e-4fd2-eaae-e848aadd3236"
      },
      "source": [
        "# Linechart\n",
        "import matplotlib.pyplot as plt\n",
        "fig,ax=plt.subplots(figsize=(10,8))\n",
        "\n",
        "for year,row in data.iteritems():\n",
        "    ax=plt.plot([str(i) for i in row.index],row.values,alpha=0.4)\n",
        "plt.title(\"China Information Security Standard Launched by month\")\n",
        "plt.legend(data.columns)\n",
        "plt.text(0,0,'Source: BMO LGM \\nAuthor: Paul Peng')\n",
        "plt.show()"
      ],
      "execution_count": null,
      "outputs": [
        {
          "output_type": "display_data",
          "data": {
            "image/png": "[encoded data removed]",
            "text/plain": [
              "<Figure size 720x576 with 1 Axes>"
            ]
          },
          "metadata": {
            "needs_background": "light"
          }
        }
      ]
    },
    {
      "cell_type": "markdown",
      "metadata": {
        "id": "NSo4DtqjmwQF"
      },
      "source": [
        "### 3.2 Heatmap"
      ]
    },
    {
      "cell_type": "code",
      "metadata": {
        "colab": {
          "base_uri": "https://localhost:8080/",
          "height": 571
        },
        "id": "Itq2pEQ3JI2Y",
        "outputId": "b465f175-c796-48b2-875a-a92d5d5a9a5a"
      },
      "source": [
        "# Heatmap\n",
        "import seaborn as sns\n",
        "fig,ax=plt.subplots(1,1,figsize=(12,8))\n",
        "ax=sns.heatmap(data,cmap='Blues',linecolor=\"gray\",linewidth=0.2,annot=True)\n",
        "plt.title(\"China Information Security Standard Consultation released by month\\n\")\n",
        "plt.text(0,14,\"Source: China T260 https://www.tc260.org.cn/front/bzzqyjList.html \\ncollected by BMO LGM \\nAuthor: Paul Peng\")\n",
        "plt.show()"
      ],
      "execution_count": null,
      "outputs": [
        {
          "output_type": "display_data",
          "data": {
            "image/png": "[encoded data removed]",
            "text/plain": [
              "<Figure size 864x576 with 2 Axes>"
            ]
          },
          "metadata": {
            "needs_background": "light"
          }
        }
      ]
    },
    {
      "cell_type": "markdown",
      "metadata": {
        "id": "AoPXC8ctm7me"
      },
      "source": [
        "### 3.3 Heatmap mentioning PIP (personal information protection) laws"
      ]
    },
    {
      "cell_type": "code",
      "metadata": {
        "colab": {
          "base_uri": "https://localhost:8080/",
          "height": 571
        },
        "id": "Uqf-L7ZUoV3-",
        "outputId": "190c3b77-59b7-4a05-f733-4797ff3886db"
      },
      "source": [
        "# Consultations mentioning PIP\n",
        "fig,ax=plt.subplots(1,1,figsize=(10,8))\n",
        "summary=df[df['name'].str.contains('个人信息')].pivot_table(index='year',columns='month',aggfunc='count').name\n",
        "summary['sum']=summary.sum(axis='columns')\n",
        "ax=sns.heatmap(data=summary,cmap='Blues',linecolor=\"gray\",linewidth=0.2,annot=True)\n",
        "plt.title(\"China Personal Information Security Standard Consultation by year\\n\")\n",
        "plt.text(0,7,\"Source: China T260 https://www.tc260.org.cn/front/bzcx/yfgbqd.html \\ncollected by BMO LGM \\nAuthor: Paul Peng\")\n",
        "plt.show()"
      ],
      "execution_count": null,
      "outputs": [
        {
          "output_type": "display_data",
          "data": {
            "image/png": "[encoded data removed]",
            "text/plain": [
              "<Figure size 720x576 with 2 Axes>"
            ]
          },
          "metadata": {
            "needs_background": "light"
          }
        }
      ]
    },
    {
      "cell_type": "markdown",
      "metadata": {
        "id": "GBEFboysnC6u"
      },
      "source": [
        "## 4. Collecting released standards data from TC260"
      ]
    },
    {
      "cell_type": "code",
      "metadata": {
        "id": "EhhLt_vqJPsw"
      },
      "source": [
        "standards_url='https://www.tc260.org.cn/front/bzcx/yfgbqd.html'\n",
        "published_std=pd.read_html(standards_url)[0]\n",
        "published_std['Year']=[no[-4:] for no in published_std['标准号']]\n",
        "published_std.head(5)"
      ],
      "execution_count": null,
      "outputs": []
    },
    {
      "cell_type": "code",
      "metadata": {
        "colab": {
          "base_uri": "https://localhost:8080/",
          "height": 419
        },
        "id": "-YJxusbhQ82O",
        "outputId": "4192142f-d5e7-4c8f-acb2-8042151aa5c6"
      },
      "source": [
        ""
      ],
      "execution_count": null,
      "outputs": [
        {
          "output_type": "execute_result",
          "data": {
            "text/html": [
              "<div>\n",
              "<style scoped>\n",
              "    .dataframe tbody tr th:only-of-type {\n",
              "        vertical-align: middle;\n",
              "    }\n",
              "\n",
              "    .dataframe tbody tr th {\n",
              "        vertical-align: top;\n",
              "    }\n",
              "\n",
              "    .dataframe thead th {\n",
              "        text-align: right;\n",
              "    }\n",
              "</style>\n",
              "<table border=\"1\" class=\"dataframe\">\n",
              "  <thead>\n",
              "    <tr style=\"text-align: right;\">\n",
              "      <th></th>\n",
              "      <th>序号</th>\n",
              "      <th>标准号</th>\n",
              "      <th>中文名称</th>\n",
              "      <th>工作组</th>\n",
              "      <th>Year</th>\n",
              "    </tr>\n",
              "  </thead>\n",
              "  <tbody>\n",
              "    <tr>\n",
              "      <th>0</th>\n",
              "      <td>1.0</td>\n",
              "      <td>GB/T 17901.1—2020</td>\n",
              "      <td>信息技术 安全技术 密钥管理 第1部分：框架</td>\n",
              "      <td>WG3</td>\n",
              "      <td>2020</td>\n",
              "    </tr>\n",
              "    <tr>\n",
              "      <th>1</th>\n",
              "      <td>2.0</td>\n",
              "      <td>GB/T 17901.3—2021</td>\n",
              "      <td>信息技术 安全技术 密钥管理 第3部分：采用非对称技术的机制</td>\n",
              "      <td>WG3</td>\n",
              "      <td>2021</td>\n",
              "    </tr>\n",
              "    <tr>\n",
              "      <th>2</th>\n",
              "      <td>3.0</td>\n",
              "      <td>GB/T 17964—2008</td>\n",
              "      <td>信息安全技术 分组密码算法的工作模式</td>\n",
              "      <td>WG3</td>\n",
              "      <td>2008</td>\n",
              "    </tr>\n",
              "    <tr>\n",
              "      <th>3</th>\n",
              "      <td>4.0</td>\n",
              "      <td>GB/T 18238.1—2000</td>\n",
              "      <td>信息技术 安全技术 散列函数 第1部分:概述</td>\n",
              "      <td>WG3</td>\n",
              "      <td>2000</td>\n",
              "    </tr>\n",
              "    <tr>\n",
              "      <th>4</th>\n",
              "      <td>5.0</td>\n",
              "      <td>GB/T 18238.2—2002</td>\n",
              "      <td>信息技术 安全技术 散列函数 第2部分:采用n位块密码的散列函数</td>\n",
              "      <td>WG3</td>\n",
              "      <td>2002</td>\n",
              "    </tr>\n",
              "    <tr>\n",
              "      <th>...</th>\n",
              "      <td>...</td>\n",
              "      <td>...</td>\n",
              "      <td>...</td>\n",
              "      <td>...</td>\n",
              "      <td>...</td>\n",
              "    </tr>\n",
              "    <tr>\n",
              "      <th>318</th>\n",
              "      <td>319.0</td>\n",
              "      <td>GB/T 39335—2020</td>\n",
              "      <td>信息安全技术 个人信息安全影响评估指南</td>\n",
              "      <td>SWG—BDS</td>\n",
              "      <td>2020</td>\n",
              "    </tr>\n",
              "    <tr>\n",
              "      <th>319</th>\n",
              "      <td>320.0</td>\n",
              "      <td>GB/T 39477—2020</td>\n",
              "      <td>信息安全技术 政务信息共享 数据安全技术要求</td>\n",
              "      <td>SWG—BDS</td>\n",
              "      <td>2020</td>\n",
              "    </tr>\n",
              "    <tr>\n",
              "      <th>320</th>\n",
              "      <td>321.0</td>\n",
              "      <td>GB/T 39725—2020</td>\n",
              "      <td>信息安全技术 健康医疗数据安全指南</td>\n",
              "      <td>SWG—BDS</td>\n",
              "      <td>2020</td>\n",
              "    </tr>\n",
              "    <tr>\n",
              "      <th>321</th>\n",
              "      <td>322.0</td>\n",
              "      <td>GB/Z 28828—2012</td>\n",
              "      <td>信息安全技术 公共及商用服务信息系统个人信息保护指南</td>\n",
              "      <td>SWG—BDS</td>\n",
              "      <td>2012</td>\n",
              "    </tr>\n",
              "    <tr>\n",
              "      <th>322</th>\n",
              "      <td>323.0</td>\n",
              "      <td>GB/Z 38649—2020</td>\n",
              "      <td>信息安全技术 智慧城市建设信息安全保障指南</td>\n",
              "      <td>SWG—BDS</td>\n",
              "      <td>2020</td>\n",
              "    </tr>\n",
              "  </tbody>\n",
              "</table>\n",
              "<p>323 rows × 5 columns</p>\n",
              "</div>"
            ],
            "text/plain": [
              "        序号                标准号                              中文名称      工作组  Year\n",
              "0      1.0  GB/T 17901.1—2020            信息技术 安全技术 密钥管理 第1部分：框架      WG3  2020\n",
              "1      2.0  GB/T 17901.3—2021    信息技术 安全技术 密钥管理 第3部分：采用非对称技术的机制      WG3  2021\n",
              "2      3.0    GB/T 17964—2008                信息安全技术 分组密码算法的工作模式      WG3  2008\n",
              "3      4.0  GB/T 18238.1—2000            信息技术 安全技术 散列函数 第1部分:概述      WG3  2000\n",
              "4      5.0  GB/T 18238.2—2002  信息技术 安全技术 散列函数 第2部分:采用n位块密码的散列函数      WG3  2002\n",
              "..     ...                ...                               ...      ...   ...\n",
              "318  319.0    GB/T 39335—2020               信息安全技术 个人信息安全影响评估指南  SWG—BDS  2020\n",
              "319  320.0    GB/T 39477—2020            信息安全技术 政务信息共享 数据安全技术要求  SWG—BDS  2020\n",
              "320  321.0    GB/T 39725—2020                 信息安全技术 健康医疗数据安全指南  SWG—BDS  2020\n",
              "321  322.0    GB/Z 28828—2012        信息安全技术 公共及商用服务信息系统个人信息保护指南  SWG—BDS  2012\n",
              "322  323.0    GB/Z 38649—2020             信息安全技术 智慧城市建设信息安全保障指南  SWG—BDS  2020\n",
              "\n",
              "[323 rows x 5 columns]"
            ]
          },
          "metadata": {},
          "execution_count": 126
        }
      ]
    },
    {
      "cell_type": "markdown",
      "metadata": {
        "id": "E9b0dPncn5jp"
      },
      "source": [
        "## 5. Visualization"
      ]
    },
    {
      "cell_type": "markdown",
      "metadata": {
        "id": "KcvSh5rcn84G"
      },
      "source": [
        "### 5.1 Heatmap of frequencies"
      ]
    },
    {
      "cell_type": "code",
      "metadata": {
        "colab": {
          "base_uri": "https://localhost:8080/",
          "height": 564
        },
        "id": "Dbq2rI92QAhV",
        "outputId": "0dc4513e-7a92-46eb-cbf1-e2b92a4e929d"
      },
      "source": [
        "#visualize information security standards\n",
        "fig,ax=plt.subplots(1,1,figsize=(12,8))\n",
        "summary=published_std.pivot_table(index='工作组',columns='Year',aggfunc='count')['中文名称'].T\n",
        "summary['sum']=summary.sum(axis='columns')\n",
        "ax=sns.heatmap(data=summary,cmap='Blues',linecolor=\"gray\",linewidth=0.2,annot=True)\n",
        "ax.set(xlabel='Work Group')\n",
        "plt.text(0,23,\"Source: China T260 https://www.tc260.org.cn/front/bzcx/yfgbqd.html \\ncollected by BMO LGM\")\n",
        "plt.show()\n"
      ],
      "execution_count": null,
      "outputs": [
        {
          "output_type": "display_data",
          "data": {
            "image/png": "[encoded data removed]",
            "text/plain": [
              "<Figure size 864x576 with 2 Axes>"
            ]
          },
          "metadata": {
            "needs_background": "light"
          }
        }
      ]
    },
    {
      "cell_type": "markdown",
      "metadata": {
        "id": "_wqNy5v7oT8e"
      },
      "source": [
        "### 5.2 Heatmap - mentioning PIP"
      ]
    },
    {
      "cell_type": "code",
      "metadata": {
        "colab": {
          "base_uri": "https://localhost:8080/",
          "height": 812
        },
        "id": "H8KKvhiUn3D9",
        "outputId": "32106479-87aa-4eeb-9279-acedab9ac7b3"
      },
      "source": [
        "#specifically mentioning PIP 个人信息\n",
        "fig,ax=plt.subplots(1,1,figsize=(8,8))\n",
        "summary=published_std[published_std['中文名称'].str.contains('个人信息')].pivot_table(index='工作组',columns='Year',aggfunc='count')['中文名称'].T\n",
        "summary['sum']=summary.sum(axis='columns')\n",
        "ax=sns.heatmap(data=summary,cmap='Blues',linecolor=\"gray\",linewidth=0.2,annot=True)\n",
        "plt.title(\"China Personal Information Security Standard Published by year\\n\")\n",
        "plt.text(0,5,\"Source: China T260 https://www.tc260.org.cn/front/bzcx/yfgbqd.html \\ncollected by BMO LGM\")\n",
        "plt.show()"
      ],
      "execution_count": null,
      "outputs": [
        {
          "output_type": "stream",
          "text": [
            "/usr/local/lib/python3.7/dist-packages/matplotlib/backends/backend_agg.py:214: RuntimeWarning: Glyph 24037 missing from current font.\n",
            "  font.set_text(s, 0.0, flags=flags)\n",
            "/usr/local/lib/python3.7/dist-packages/matplotlib/backends/backend_agg.py:214: RuntimeWarning: Glyph 20316 missing from current font.\n",
            "  font.set_text(s, 0.0, flags=flags)\n",
            "/usr/local/lib/python3.7/dist-packages/matplotlib/backends/backend_agg.py:214: RuntimeWarning: Glyph 32452 missing from current font.\n",
            "  font.set_text(s, 0.0, flags=flags)\n",
            "/usr/local/lib/python3.7/dist-packages/matplotlib/backends/backend_agg.py:183: RuntimeWarning: Glyph 24037 missing from current font.\n",
            "  font.set_text(s, 0, flags=flags)\n",
            "/usr/local/lib/python3.7/dist-packages/matplotlib/backends/backend_agg.py:183: RuntimeWarning: Glyph 20316 missing from current font.\n",
            "  font.set_text(s, 0, flags=flags)\n",
            "/usr/local/lib/python3.7/dist-packages/matplotlib/backends/backend_agg.py:183: RuntimeWarning: Glyph 32452 missing from current font.\n",
            "  font.set_text(s, 0, flags=flags)\n"
          ],
          "name": "stderr"
        },
        {
          "output_type": "display_data",
          "data": {
            "image/png": "[encoded data removed]",
            "text/plain": [
              "<Figure size 576x576 with 2 Axes>"
            ]
          },
          "metadata": {
            "needs_background": "light"
          }
        }
      ]
    },
    {
      "cell_type": "markdown",
      "metadata": {
        "id": "EyN138uQnaEQ"
      },
      "source": [
        "## 6. Check companies/institutions' participation to determine influence/strength with government relations"
      ]
    },
    {
      "cell_type": "code",
      "metadata": {
        "id": "QxAnzoJneVZo"
      },
      "source": [
        "participating_int=pd.read_html(requests.get('https://www.tc260.org.cn/front/bzcx/zhcx.html',params={'length':\"1000\"}).text)[0]\n",
        "participating_int['承担单位']=[str(row).split('、') for row in participating_int['承担单位']]\n",
        "participating_int['主要研制人']=[str(row).split('、') for row in participating_int['主要研制人']]\n",
        "by_int=participating_int.explode('承担单位')#.groupby('承担单位').count().sort_values('项目名称（中文）',ascending=False)\n",
        "#by_int_by_pers=participating_int.explode('承担单位').explode('主要研制人')#.groupby('承担单位').count().sort_values('项目名称（中文）',ascending=False)"
      ],
      "execution_count": null,
      "outputs": []
    },
    {
      "cell_type": "code",
      "metadata": {
        "id": "3dxcPvu9fwTJ"
      },
      "source": [
        "res=by_int[by_int['项目名称（中文）'].str.contains('互联网')|\n",
        "       by_int['项目名称（中文）'].str.contains('平台',re.IGNORECASE)|\n",
        "       by_int['项目名称（中文）'].str.contains('app')|\n",
        "       by_int['项目名称（中文）'].str.contains('个人信息')].groupby('承担单位').count().sort_values('项目名称（中文）',ascending=False).head(20)\n",
        "res[res.index.str.contains('公司')]"
      ],
      "execution_count": null,
      "outputs": []
    },
    {
      "cell_type": "markdown",
      "metadata": {
        "id": "oxxo3ASSnk2G"
      },
      "source": [
        "### 6.1 Mentioning PIP"
      ]
    },
    {
      "cell_type": "code",
      "metadata": {
        "colab": {
          "base_uri": "https://localhost:8080/",
          "height": 560
        },
        "id": "bTXRXEdXejdH",
        "outputId": "132589b0-754b-4db1-b176-8e81f6e6567c"
      },
      "source": [
        "participating_int[participating_int['项目名称（中文）'].str.contains('个人信息')]"
      ],
      "execution_count": null,
      "outputs": [
        {
          "output_type": "execute_result",
          "data": {
            "text/html": [
              "<div>\n",
              "<style scoped>\n",
              "    .dataframe tbody tr th:only-of-type {\n",
              "        vertical-align: middle;\n",
              "    }\n",
              "\n",
              "    .dataframe tbody tr th {\n",
              "        vertical-align: top;\n",
              "    }\n",
              "\n",
              "    .dataframe thead th {\n",
              "        text-align: right;\n",
              "    }\n",
              "</style>\n",
              "<table border=\"1\" class=\"dataframe\">\n",
              "  <thead>\n",
              "    <tr style=\"text-align: right;\">\n",
              "      <th></th>\n",
              "      <th>项目名称（中文）</th>\n",
              "      <th>项目类型</th>\n",
              "      <th>主要研制人</th>\n",
              "      <th>承担单位</th>\n",
              "    </tr>\n",
              "  </thead>\n",
              "  <tbody>\n",
              "    <tr>\n",
              "      <th>11</th>\n",
              "      <td>信息安全技术 个人信息安全影响评估指南</td>\n",
              "      <td>制定</td>\n",
              "      <td>[洪延青, 何延哲, 胡影, 高强裔, 陈湉, 赵冉冉, 刘贤刚, 皮山杉, 黄劲, 葛梦莹...</td>\n",
              "      <td>[中国电子技术标准化研究院, 四川大学, 颐信科技有限公司, 深圳市腾讯计算机系统有限公司,...</td>\n",
              "    </tr>\n",
              "    <tr>\n",
              "      <th>54</th>\n",
              "      <td>信息安全技术 个人信息安全规范</td>\n",
              "      <td>修订</td>\n",
              "      <td>[洪延青, 何延哲, 杨建军, 钱秀槟, 陈兴蜀, 刘贤刚, 上官晓丽, 高林, 邵正强, ...</td>\n",
              "      <td>[中国电子技术标准化研究院, 北京信息安全测评中心, 颐信科技有限公司, 四川大 学, 清华...</td>\n",
              "    </tr>\n",
              "    <tr>\n",
              "      <th>68</th>\n",
              "      <td>信息技术 安全技术 公有云中个人信息保护实践指南</td>\n",
              "      <td>制定</td>\n",
              "      <td>[王庆升]</td>\n",
              "      <td>[中国网络安全审查技术与认证中心等]</td>\n",
              "    </tr>\n",
              "    <tr>\n",
              "      <th>74</th>\n",
              "      <td>信息安全技术 移动互联网应用程序（App）收集个人信息基本要求</td>\n",
              "      <td>制定</td>\n",
              "      <td>[刘贤刚]</td>\n",
              "      <td>[北京信息安全测评中心等]</td>\n",
              "    </tr>\n",
              "    <tr>\n",
              "      <th>102</th>\n",
              "      <td>信息安全技术 个人信息去标识化指南</td>\n",
              "      <td>制定</td>\n",
              "      <td>[金涛, 谢安明, 陈星, 白晓媛, 郑新华, 刘贤刚, 陈文捷, 刘玉岭, 宋鹏举, 赵亮...</td>\n",
              "      <td>[清华大学, 启明星辰信息技术集团股份有限公司, 浙江蚂蚁小微金融服务集团有 限公司, 阿里...</td>\n",
              "    </tr>\n",
              "    <tr>\n",
              "      <th>108</th>\n",
              "      <td>信息安全技术 个人信息安全规范</td>\n",
              "      <td>修订</td>\n",
              "      <td>[杨建军]</td>\n",
              "      <td>[北京信息安全测评中心, 颐信科技有限公司, 四川大学网络空间安全研究院]</td>\n",
              "    </tr>\n",
              "    <tr>\n",
              "      <th>196</th>\n",
              "      <td>信息安全技术 移动智能终端个人信息保护技术要求</td>\n",
              "      <td>制定</td>\n",
              "      <td>[高洁原, 高炽扬, 罗锋盈, 高子鹏, 王坤, 张华熊, 刘法旺, 刘陶, 杨建军, 郭颖]</td>\n",
              "      <td>[浙江长天信息技术有限公司, 浙江省经济和信息化委员会, 成都网安科技发展有限公司, 中国软...</td>\n",
              "    </tr>\n",
              "    <tr>\n",
              "      <th>383</th>\n",
              "      <td>信息安全技术 公共及商用服务信息系统个人信息保护指南</td>\n",
              "      <td>制定</td>\n",
              "      <td>[高炽扬 李守鹏 朱璇 杨建军 罗锋盈 何伟起 郭涛 彭勇 严晓凤 刘陶 朱信铭 王芳 郭臣...</td>\n",
              "      <td>[中国软件评测中心, 北京赛迪信息技术评测有限公司, 中国信息安全测评中心, 中国电子技术标...</td>\n",
              "    </tr>\n",
              "    <tr>\n",
              "      <th>673</th>\n",
              "      <td>信息安全技术 个人信息去标识化效果分级评估规范</td>\n",
              "      <td>制定</td>\n",
              "      <td>[金涛]</td>\n",
              "      <td>[清华大学]</td>\n",
              "    </tr>\n",
              "    <tr>\n",
              "      <th>707</th>\n",
              "      <td>信息安全技术 个人信息安全工程指南</td>\n",
              "      <td>制定</td>\n",
              "      <td>[刘贤刚]</td>\n",
              "      <td>[nan]</td>\n",
              "    </tr>\n",
              "    <tr>\n",
              "      <th>758</th>\n",
              "      <td>个人信息告知同意指南</td>\n",
              "      <td>研究</td>\n",
              "      <td>[赵冉冉]</td>\n",
              "      <td>[财付通支付科技有限公司]</td>\n",
              "    </tr>\n",
              "  </tbody>\n",
              "</table>\n",
              "</div>"
            ],
            "text/plain": [
              "                            项目名称（中文）  ...                                               承担单位\n",
              "11               信息安全技术 个人信息安全影响评估指南  ...  [中国电子技术标准化研究院, 四川大学, 颐信科技有限公司, 深圳市腾讯计算机系统有限公司,...\n",
              "54                   信息安全技术 个人信息安全规范  ...  [中国电子技术标准化研究院, 北京信息安全测评中心, 颐信科技有限公司, 四川大 学, 清华...\n",
              "68          信息技术 安全技术 公有云中个人信息保护实践指南  ...                                 [中国网络安全审查技术与认证中心等]\n",
              "74   信息安全技术 移动互联网应用程序（App）收集个人信息基本要求  ...                                      [北京信息安全测评中心等]\n",
              "102                信息安全技术 个人信息去标识化指南  ...  [清华大学, 启明星辰信息技术集团股份有限公司, 浙江蚂蚁小微金融服务集团有 限公司, 阿里...\n",
              "108                  信息安全技术 个人信息安全规范  ...              [北京信息安全测评中心, 颐信科技有限公司, 四川大学网络空间安全研究院]\n",
              "196          信息安全技术 移动智能终端个人信息保护技术要求  ...  [浙江长天信息技术有限公司, 浙江省经济和信息化委员会, 成都网安科技发展有限公司, 中国软...\n",
              "383       信息安全技术 公共及商用服务信息系统个人信息保护指南  ...  [中国软件评测中心, 北京赛迪信息技术评测有限公司, 中国信息安全测评中心, 中国电子技术标...\n",
              "673          信息安全技术 个人信息去标识化效果分级评估规范  ...                                             [清华大学]\n",
              "707                信息安全技术 个人信息安全工程指南  ...                                              [nan]\n",
              "758                       个人信息告知同意指南  ...                                      [财付通支付科技有限公司]\n",
              "\n",
              "[11 rows x 4 columns]"
            ]
          },
          "metadata": {},
          "execution_count": 201
        }
      ]
    },
    {
      "cell_type": "markdown",
      "metadata": {
        "id": "qexFgu_lnqoG"
      },
      "source": [
        "### 6.2 Top companies by participation"
      ]
    },
    {
      "cell_type": "code",
      "metadata": {
        "colab": {
          "base_uri": "https://localhost:8080/",
          "height": 1000
        },
        "id": "xP2wR2EbfLU3",
        "outputId": "e3fabcf4-5823-49aa-f9fd-e3bcb762ab28"
      },
      "source": [
        "res=by_int.groupby('承担单位').count().sort_values('项目名称（中文）',ascending=False)\n",
        "res[res.index.str.contains('公司')].head(30)"
      ],
      "execution_count": null,
      "outputs": [
        {
          "output_type": "execute_result",
          "data": {
            "text/html": [
              "<div>\n",
              "<style scoped>\n",
              "    .dataframe tbody tr th:only-of-type {\n",
              "        vertical-align: middle;\n",
              "    }\n",
              "\n",
              "    .dataframe tbody tr th {\n",
              "        vertical-align: top;\n",
              "    }\n",
              "\n",
              "    .dataframe thead th {\n",
              "        text-align: right;\n",
              "    }\n",
              "</style>\n",
              "<table border=\"1\" class=\"dataframe\">\n",
              "  <thead>\n",
              "    <tr style=\"text-align: right;\">\n",
              "      <th></th>\n",
              "      <th>项目名称（中文）</th>\n",
              "      <th>项目类型</th>\n",
              "      <th>主要研制人</th>\n",
              "    </tr>\n",
              "    <tr>\n",
              "      <th>承担单位</th>\n",
              "      <th></th>\n",
              "      <th></th>\n",
              "      <th></th>\n",
              "    </tr>\n",
              "  </thead>\n",
              "  <tbody>\n",
              "    <tr>\n",
              "      <th>华为技术有限公司</th>\n",
              "      <td>41</td>\n",
              "      <td>41</td>\n",
              "      <td>41</td>\n",
              "    </tr>\n",
              "    <tr>\n",
              "      <th>北京数字认证股份有限公司</th>\n",
              "      <td>36</td>\n",
              "      <td>36</td>\n",
              "      <td>36</td>\n",
              "    </tr>\n",
              "    <tr>\n",
              "      <th>中国信息安全研究院有限公司</th>\n",
              "      <td>27</td>\n",
              "      <td>27</td>\n",
              "      <td>27</td>\n",
              "    </tr>\n",
              "    <tr>\n",
              "      <th>北京天融信网络安全技术有限公司</th>\n",
              "      <td>24</td>\n",
              "      <td>24</td>\n",
              "      <td>24</td>\n",
              "    </tr>\n",
              "    <tr>\n",
              "      <th>上海三零卫士信息安全有限公司</th>\n",
              "      <td>23</td>\n",
              "      <td>23</td>\n",
              "      <td>23</td>\n",
              "    </tr>\n",
              "    <tr>\n",
              "      <th>阿里云计算有限公司</th>\n",
              "      <td>23</td>\n",
              "      <td>23</td>\n",
              "      <td>23</td>\n",
              "    </tr>\n",
              "    <tr>\n",
              "      <th>中电长城网际系统应用有限公司</th>\n",
              "      <td>22</td>\n",
              "      <td>22</td>\n",
              "      <td>22</td>\n",
              "    </tr>\n",
              "    <tr>\n",
              "      <th>北京江南天安科技有限公司</th>\n",
              "      <td>20</td>\n",
              "      <td>20</td>\n",
              "      <td>20</td>\n",
              "    </tr>\n",
              "    <tr>\n",
              "      <th>启明星辰信息技术集团股份有限公司</th>\n",
              "      <td>19</td>\n",
              "      <td>19</td>\n",
              "      <td>19</td>\n",
              "    </tr>\n",
              "    <tr>\n",
              "      <th>西安西电捷通无线网络通信股份有限公司</th>\n",
              "      <td>19</td>\n",
              "      <td>19</td>\n",
              "      <td>19</td>\n",
              "    </tr>\n",
              "    <tr>\n",
              "      <th>深信服科技股份有限公司</th>\n",
              "      <td>16</td>\n",
              "      <td>16</td>\n",
              "      <td>16</td>\n",
              "    </tr>\n",
              "    <tr>\n",
              "      <th>上海格尔软件股份有限公司</th>\n",
              "      <td>16</td>\n",
              "      <td>16</td>\n",
              "      <td>16</td>\n",
              "    </tr>\n",
              "    <tr>\n",
              "      <th>北京奇安信科技有限公司</th>\n",
              "      <td>15</td>\n",
              "      <td>15</td>\n",
              "      <td>15</td>\n",
              "    </tr>\n",
              "    <tr>\n",
              "      <th>长春吉大正元信息技术股份有限公司</th>\n",
              "      <td>12</td>\n",
              "      <td>12</td>\n",
              "      <td>12</td>\n",
              "    </tr>\n",
              "    <tr>\n",
              "      <th>浙江蚂蚁小微金融服务集团股份有限公司</th>\n",
              "      <td>12</td>\n",
              "      <td>12</td>\n",
              "      <td>12</td>\n",
              "    </tr>\n",
              "    <tr>\n",
              "      <th>深圳市腾讯计算机系统有限公司</th>\n",
              "      <td>12</td>\n",
              "      <td>12</td>\n",
              "      <td>12</td>\n",
              "    </tr>\n",
              "    <tr>\n",
              "      <th>联想（北京）有限公司</th>\n",
              "      <td>12</td>\n",
              "      <td>12</td>\n",
              "      <td>12</td>\n",
              "    </tr>\n",
              "    <tr>\n",
              "      <th>兴唐通信科技有限公司</th>\n",
              "      <td>12</td>\n",
              "      <td>12</td>\n",
              "      <td>12</td>\n",
              "    </tr>\n",
              "    <tr>\n",
              "      <th>成都卫士通信息产业股份有限公司</th>\n",
              "      <td>12</td>\n",
              "      <td>12</td>\n",
              "      <td>12</td>\n",
              "    </tr>\n",
              "    <tr>\n",
              "      <th>网神信息技术（北京）股份有限公司</th>\n",
              "      <td>11</td>\n",
              "      <td>11</td>\n",
              "      <td>11</td>\n",
              "    </tr>\n",
              "    <tr>\n",
              "      <th>中国电子科技网络信息安全有限公司</th>\n",
              "      <td>10</td>\n",
              "      <td>10</td>\n",
              "      <td>10</td>\n",
              "    </tr>\n",
              "    <tr>\n",
              "      <th>中国移动通信集团公司</th>\n",
              "      <td>10</td>\n",
              "      <td>10</td>\n",
              "      <td>10</td>\n",
              "    </tr>\n",
              "    <tr>\n",
              "      <th>新华三技术有限公司</th>\n",
              "      <td>10</td>\n",
              "      <td>10</td>\n",
              "      <td>10</td>\n",
              "    </tr>\n",
              "    <tr>\n",
              "      <th>北京奇虎科技有限公司</th>\n",
              "      <td>10</td>\n",
              "      <td>10</td>\n",
              "      <td>10</td>\n",
              "    </tr>\n",
              "    <tr>\n",
              "      <th>北京时代新威信息技术有限公司</th>\n",
              "      <td>9</td>\n",
              "      <td>9</td>\n",
              "      <td>9</td>\n",
              "    </tr>\n",
              "    <tr>\n",
              "      <th>山东得安信息技术有限公司</th>\n",
              "      <td>9</td>\n",
              "      <td>9</td>\n",
              "      <td>9</td>\n",
              "    </tr>\n",
              "    <tr>\n",
              "      <th>阿里巴巴（北京）软件服务有限公司</th>\n",
              "      <td>9</td>\n",
              "      <td>9</td>\n",
              "      <td>9</td>\n",
              "    </tr>\n",
              "    <tr>\n",
              "      <th>中国电子科技集团公司第十五研究所</th>\n",
              "      <td>9</td>\n",
              "      <td>9</td>\n",
              "      <td>9</td>\n",
              "    </tr>\n",
              "    <tr>\n",
              "      <th>北京启明星辰信息安全技术有限公司</th>\n",
              "      <td>9</td>\n",
              "      <td>9</td>\n",
              "      <td>9</td>\n",
              "    </tr>\n",
              "    <tr>\n",
              "      <th>广州赛宝认证中心服务有限公司</th>\n",
              "      <td>8</td>\n",
              "      <td>8</td>\n",
              "      <td>8</td>\n",
              "    </tr>\n",
              "  </tbody>\n",
              "</table>\n",
              "</div>"
            ],
            "text/plain": [
              "                    项目名称（中文）  项目类型  主要研制人\n",
              "承担单位                                     \n",
              "华为技术有限公司                  41    41     41\n",
              "北京数字认证股份有限公司              36    36     36\n",
              "中国信息安全研究院有限公司             27    27     27\n",
              "北京天融信网络安全技术有限公司           24    24     24\n",
              "上海三零卫士信息安全有限公司            23    23     23\n",
              "阿里云计算有限公司                 23    23     23\n",
              "中电长城网际系统应用有限公司            22    22     22\n",
              "北京江南天安科技有限公司              20    20     20\n",
              "启明星辰信息技术集团股份有限公司          19    19     19\n",
              "西安西电捷通无线网络通信股份有限公司        19    19     19\n",
              "深信服科技股份有限公司               16    16     16\n",
              "上海格尔软件股份有限公司              16    16     16\n",
              "北京奇安信科技有限公司               15    15     15\n",
              "长春吉大正元信息技术股份有限公司          12    12     12\n",
              "浙江蚂蚁小微金融服务集团股份有限公司        12    12     12\n",
              "深圳市腾讯计算机系统有限公司            12    12     12\n",
              "联想（北京）有限公司                12    12     12\n",
              "兴唐通信科技有限公司                12    12     12\n",
              "成都卫士通信息产业股份有限公司           12    12     12\n",
              "网神信息技术（北京）股份有限公司          11    11     11\n",
              "中国电子科技网络信息安全有限公司          10    10     10\n",
              "中国移动通信集团公司                10    10     10\n",
              "新华三技术有限公司                 10    10     10\n",
              "北京奇虎科技有限公司                10    10     10\n",
              "北京时代新威信息技术有限公司             9     9      9\n",
              "山东得安信息技术有限公司               9     9      9\n",
              "阿里巴巴（北京）软件服务有限公司           9     9      9\n",
              "中国电子科技集团公司第十五研究所           9     9      9\n",
              "北京启明星辰信息安全技术有限公司           9     9      9\n",
              "广州赛宝认证中心服务有限公司             8     8      8"
            ]
          },
          "metadata": {},
          "execution_count": 224
        }
      ]
    }
  ]
}